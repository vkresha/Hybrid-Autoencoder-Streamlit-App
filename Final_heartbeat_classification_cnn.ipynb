{
  "cells": [
    {
      "cell_type": "markdown",
      "source": [
        "###**Hybrid Classification Model Overview**\n",
        "\n",
        "**What is this code?**\n",
        "\n",
        "It's a neural network model that performs:\n",
        "\n",
        "- Classification: Identifies the class of the input data (e.g., one of the five categories ['F', 'N', 'S', 'V', 'Q']). (Uses CNN + LSTM)\n",
        "\n",
        "\n",
        "**What are the main parts of the model?**\n",
        "\n",
        "- Encoder: Compresses the input data into a smaller, meaningful \"latent space\" representation.\n",
        "- Classifier: Uses the same latent space to determine which class the input belongs to (one of F, N, S, V, Q).\n",
        "\n",
        "###**Explanation of the Model Architecture**\n",
        "\n",
        "**Encoder:**\n",
        "\n",
        "Takes input data and extracts key features using layers like:\n",
        "\n",
        "Convolutional layers: Identify patterns in the data.\n",
        "LSTM (Long Short-Term Memory): Useful for sequential data (like time series or signals).\n",
        "\n",
        "The result is a smaller \"latent representation\" that summarizes the input.\n",
        "\n",
        "\n",
        "**Classifier:**\n",
        "\n",
        "Takes the latent representation and predicts the class of the input signal (e.g., F, N, S, V, Q).\n",
        "\n",
        "\n",
        "### **What Does the Model Do?**\n",
        "\n",
        "**Input:**\n",
        "\n",
        "A single signal (a heartbeat pattern of length 280).\n",
        "\n",
        "**Processing:**\n",
        "\n",
        "- The signal is compressed into a smaller representation (via the encoder).\n",
        "- The latent space is used to Predict its class (classifier).\n",
        "\n",
        "**Output:**\n",
        "\n",
        "- Class prediction: One of the five classes (F, N, S, V, Q).\n",
        "\n",
        "\n",
        "\n",
        "\n",
        "\n"
      ],
      "metadata": {
        "id": "CnXL7DTf0Cyf"
      }
    },
    {
      "cell_type": "code",
      "source": [
        "import numpy as np\n",
        "import scipy.io as spio\n",
        "import tensorflow as tf\n",
        "from tensorflow.keras import layers, Model\n",
        "from sklearn.model_selection import train_test_split\n",
        "from sklearn.metrics import accuracy_score, precision_score, recall_score, f1_score, confusion_matrix\n",
        "import matplotlib.pyplot as plt\n",
        "import seaborn as sns\n",
        "from sklearn.preprocessing import LabelEncoder\n",
        "from sklearn.metrics import classification_report, accuracy_score, precision_score, recall_score, fbeta_score\n",
        "from sklearn.metrics import confusion_matrix"
      ],
      "metadata": {
        "id": "uj29sgqD0GgX"
      },
      "execution_count": null,
      "outputs": []
    },
    {
      "cell_type": "code",
      "source": [
        "# Step 1: Pre-processing Function\n",
        "def read_mitbih(filename, max_time=100, classes=['F', 'N', 'S', 'V', 'Q']):\n",
        "    def normalize(data):\n",
        "        data = np.nan_to_num(data)  # removing NaNs and Infs\n",
        "        data = data - np.mean(data)\n",
        "        data = data / np.std(data)\n",
        "        return data\n",
        "\n",
        "    # Read data\n",
        "    data = []\n",
        "    samples = spio.loadmat(filename + \".mat\")\n",
        "    samples = samples['s2s_mitbih']\n",
        "    values = samples[0]['seg_values']\n",
        "    labels = samples[0]['seg_labels']\n",
        "    num_annots = sum([item.shape[0] for item in values])\n",
        "\n",
        "    n_seqs = num_annots / max_time\n",
        "    l_data = 0\n",
        "    for i, item in enumerate(values):\n",
        "        l = item.shape[0]\n",
        "        for itm in item:\n",
        "            if l_data == n_seqs * max_time:\n",
        "                break\n",
        "            data.append(itm[0])\n",
        "            l_data += 1\n",
        "\n",
        "    l_labels = 0\n",
        "    t_labels = []\n",
        "    for i, item in enumerate(labels):\n",
        "        if len(t_labels) == n_seqs * max_time:\n",
        "            break\n",
        "        item = item[0]\n",
        "        for label in item:\n",
        "            if l_labels == n_seqs * max_time:\n",
        "                break\n",
        "            t_labels.append(str(label))\n",
        "            l_labels += 1\n",
        "\n",
        "    del values\n",
        "    data = np.asarray(data)\n",
        "    shape_v = data.shape\n",
        "    data = np.reshape(data, [shape_v[0], -1])\n",
        "    t_labels = np.array(t_labels)\n",
        "\n",
        "    # Combine all samples for the specified classes\n",
        "    _data = np.asarray([], dtype=np.float64).reshape(0, shape_v[1])\n",
        "    _labels = np.asarray([], dtype=np.dtype('|S1')).reshape(0,)\n",
        "    for cl in classes:\n",
        "        _label = np.where(t_labels == cl)\n",
        "        _data = np.concatenate((_data, data[_label[0]]))\n",
        "        _labels = np.concatenate((_labels, t_labels[_label[0]]))\n",
        "\n",
        "    data = _data[:(len(_data) // max_time) * max_time, :]\n",
        "    _labels = _labels[:(len(_data) // max_time) * max_time]\n",
        "\n",
        "    data = [data[i:i + max_time] for i in range(0, len(data), max_time)]\n",
        "    labels = [_labels[i:i + max_time] for i in range(0, len(_labels), max_time)]\n",
        "    permute = np.random.permutation(len(labels))\n",
        "    data = np.asarray(data)\n",
        "    labels = np.asarray(labels)\n",
        "    data = data[permute]\n",
        "    labels = labels[permute]\n",
        "\n",
        "    print('Records processed!')\n",
        "    return data, labels\n"
      ],
      "metadata": {
        "id": "8m9_XqmscOqG"
      },
      "execution_count": null,
      "outputs": []
    },
    {
      "cell_type": "code",
      "source": [
        "from google.colab import drive\n",
        "drive.mount('/content/drive')"
      ],
      "metadata": {
        "colab": {
          "base_uri": "https://localhost:8080/"
        },
        "id": "PL0XrbHxORbp",
        "outputId": "95a71fc1-61a0-465a-b50d-09b77b8ae71b"
      },
      "execution_count": null,
      "outputs": [
        {
          "output_type": "stream",
          "name": "stdout",
          "text": [
            "Mounted at /content/drive\n"
          ]
        }
      ]
    },
    {
      "cell_type": "code",
      "source": [
        "#optional: only checking the accessiblity\n",
        "import os\n",
        "print(os.path.exists(\"/content/drive/My Drive/s2s_mitbih_aami.mat\"))"
      ],
      "metadata": {
        "id": "vQrV32shF9pj",
        "colab": {
          "base_uri": "https://localhost:8080/"
        },
        "outputId": "830db2f0-905e-4002-d636-8756fc96a6b0"
      },
      "execution_count": null,
      "outputs": [
        {
          "output_type": "stream",
          "name": "stdout",
          "text": [
            "True\n"
          ]
        }
      ]
    },
    {
      "cell_type": "code",
      "source": [
        "# Step 2: Load and Process Data\n",
        "#filename = \"s2s_mitbih_aami\"\n",
        "filename = \"/content/drive/My Drive/s2s_mitbih_aami\"\n",
        "max_time = 1\n",
        "classes = ['F', 'N', 'S', 'V', 'Q']\n",
        "\n",
        "# Load the data and labels\n",
        "data, labels = read_mitbih(filename, max_time=max_time, classes=classes)\n",
        "data = data.astype(np.float32)\n",
        "\n",
        "# Encode the labels as integers (F=0, N=1, etc.)\n",
        "label_encoder = LabelEncoder()\n",
        "labels = label_encoder.fit_transform(labels)  # Encode labels into integers"
      ],
      "metadata": {
        "colab": {
          "base_uri": "https://localhost:8080/"
        },
        "id": "GMLAKWXKcbjW",
        "outputId": "0d715032-0395-4e3f-accd-c6e2ebe94dec"
      },
      "execution_count": null,
      "outputs": [
        {
          "output_type": "stream",
          "name": "stdout",
          "text": [
            "Records processed!\n"
          ]
        },
        {
          "output_type": "stream",
          "name": "stderr",
          "text": [
            "/usr/local/lib/python3.10/dist-packages/sklearn/preprocessing/_label.py:110: DataConversionWarning: A column-vector y was passed when a 1d array was expected. Please change the shape of y to (n_samples, ), for example using ravel().\n",
            "  y = column_or_1d(y, warn=True)\n"
          ]
        }
      ]
    },
    {
      "cell_type": "code",
      "source": [
        "# Train-test split\n",
        "X_train, X_test, y_train, y_test = train_test_split(\n",
        "    data, labels, test_size=0.15, random_state=45, shuffle=True\n",
        ")"
      ],
      "metadata": {
        "id": "dIMJNvo3E8DD"
      },
      "execution_count": null,
      "outputs": []
    },
    {
      "cell_type": "code",
      "source": [
        "!pip install imbalanced-learn"
      ],
      "metadata": {
        "colab": {
          "base_uri": "https://localhost:8080/"
        },
        "id": "VxfVT-RZE3w8",
        "outputId": "86eccb07-c97f-4fea-a7df-d892c5bcc328"
      },
      "execution_count": null,
      "outputs": [
        {
          "output_type": "stream",
          "name": "stdout",
          "text": [
            "Requirement already satisfied: imbalanced-learn in /usr/local/lib/python3.10/dist-packages (0.12.4)\n",
            "Requirement already satisfied: numpy>=1.17.3 in /usr/local/lib/python3.10/dist-packages (from imbalanced-learn) (1.26.4)\n",
            "Requirement already satisfied: scipy>=1.5.0 in /usr/local/lib/python3.10/dist-packages (from imbalanced-learn) (1.13.1)\n",
            "Requirement already satisfied: scikit-learn>=1.0.2 in /usr/local/lib/python3.10/dist-packages (from imbalanced-learn) (1.6.0)\n",
            "Requirement already satisfied: joblib>=1.1.1 in /usr/local/lib/python3.10/dist-packages (from imbalanced-learn) (1.4.2)\n",
            "Requirement already satisfied: threadpoolctl>=2.0.0 in /usr/local/lib/python3.10/dist-packages (from imbalanced-learn) (3.5.0)\n"
          ]
        }
      ]
    },
    {
      "cell_type": "code",
      "source": [
        "# TRIAL TUNING: Handling Imbalance Data with SMOTE\n",
        "from imblearn.over_sampling import SMOTE\n",
        "\n",
        "# SMOTE for oversampling in training data\n",
        "X_train_flat = X_train.reshape(X_train.shape[0], -1)  # Ubah ke format 2D untuk SMOTE\n",
        "smote = SMOTE(random_state=42)\n",
        "X_train_resampled, y_train_resampled = smote.fit_resample(X_train_flat, y_train)\n",
        "\n",
        "# Return the shape of training data into 3D\n",
        "X_train_resampled = X_train_resampled.reshape(-1, X_train.shape[1], X_train.shape[2])\n",
        "\n",
        "print(\"Shape after SMOTE:\")\n",
        "print(\"X_train_resampled:\", X_train_resampled.shape)\n",
        "print(\"y_train_resampled:\", y_train_resampled.shape)"
      ],
      "metadata": {
        "colab": {
          "base_uri": "https://localhost:8080/"
        },
        "id": "iMMF6LcDFBnY",
        "outputId": "f38bef32-192c-49dd-d3c8-5136fae2d733"
      },
      "execution_count": null,
      "outputs": [
        {
          "output_type": "stream",
          "name": "stderr",
          "text": [
            "/usr/local/lib/python3.10/dist-packages/sklearn/base.py:474: FutureWarning: `BaseEstimator._validate_data` is deprecated in 1.6 and will be removed in 1.7. Use `sklearn.utils.validation.validate_data` instead. This function becomes public and is part of the scikit-learn developer API.\n",
            "  warnings.warn(\n",
            "/usr/local/lib/python3.10/dist-packages/sklearn/utils/_tags.py:354: FutureWarning: The SMOTE or classes from which it inherits use `_get_tags` and `_more_tags`. Please define the `__sklearn_tags__` method, or inherit from `sklearn.base.BaseEstimator` and/or other appropriate mixins such as `sklearn.base.TransformerMixin`, `sklearn.base.ClassifierMixin`, `sklearn.base.RegressorMixin`, and `sklearn.base.OutlierMixin`. From scikit-learn 1.7, not defining `__sklearn_tags__` will raise an error.\n",
            "  warnings.warn(\n"
          ]
        },
        {
          "output_type": "stream",
          "name": "stdout",
          "text": [
            "Shape after SMOTE:\n",
            "X_train_resampled: (384210, 1, 280)\n",
            "y_train_resampled: (384210,)\n"
          ]
        }
      ]
    },
    {
      "cell_type": "code",
      "source": [
        "class HybridAutoEncoder(Model):\n",
        "    def __init__(self, input_dim, latent_dim, num_classes=5):\n",
        "        super(HybridAutoEncoder, self).__init__()\n",
        "\n",
        "        # Encoder\n",
        "        self.encoder = tf.keras.Sequential([\n",
        "            layers.Input(shape=(input_dim, 1)),\n",
        "            layers.Conv1D(64, 3, strides=1, activation='relu', padding=\"same\"),\n",
        "            layers.BatchNormalization(),\n",
        "            layers.MaxPooling1D(2, padding=\"same\"),\n",
        "            layers.Conv1D(128, 3, strides=1, activation='relu', padding=\"same\"),\n",
        "            layers.BatchNormalization(),\n",
        "            layers.MaxPooling1D(2, padding=\"same\"),\n",
        "            layers.LSTM(latent_dim, activation='tanh', return_sequences=False)\n",
        "        ])\n",
        "\n",
        "        # Calculate reduced time dimension\n",
        "        from math import ceil\n",
        "        self.reduced_time_dim = ceil(input_dim / 4)\n",
        "\n",
        "        # Decoder for reconstruction\n",
        "        self.decoder = tf.keras.Sequential([\n",
        "            layers.RepeatVector(self.reduced_time_dim),\n",
        "            layers.LSTM(latent_dim, activation='tanh', return_sequences=True),\n",
        "            layers.Conv1D(128, 3, strides=1, activation='relu', padding=\"same\"),\n",
        "            layers.UpSampling1D(2),\n",
        "            layers.BatchNormalization(),\n",
        "            layers.Conv1D(64, 3, strides=1, activation='relu', padding=\"same\"),\n",
        "            layers.UpSampling1D(2),\n",
        "            layers.BatchNormalization(),\n",
        "            layers.Conv1D(1, 3, strides=1, activation='sigmoid', padding=\"same\")\n",
        "        ])\n",
        "\n",
        "        # Classification head\n",
        "        self.classifier = tf.keras.Sequential([\n",
        "            layers.Dense(64, activation='relu'),\n",
        "            layers.BatchNormalization(),\n",
        "            layers.Dropout(0.5),\n",
        "            layers.Dense(num_classes, activation='softmax')\n",
        "        ])\n",
        "\n",
        "        # Build the model by calling it with a dummy input\n",
        "        # This forces variable creation during initialization\n",
        "        dummy_input = tf.keras.Input(shape=(input_dim, 1))\n",
        "        self(dummy_input)\n",
        "\n",
        "    def call(self, X):\n",
        "        # Encode input to latent space\n",
        "        encoded = self.encoder(X)\n",
        "\n",
        "        # Reconstruction from latent space\n",
        "        decoded = self.decoder(encoded)\n",
        "\n",
        "        # Classification from latent space\n",
        "        classification_output = self.classifier(encoded)\n",
        "\n",
        "        return {\"reconstruction\": decoded, \"classification\": classification_output}\n"
      ],
      "metadata": {
        "id": "8lcCjpxTcgvu"
      },
      "execution_count": null,
      "outputs": []
    },
    {
      "cell_type": "code",
      "source": [
        "# Create the hybrid model\n",
        "input_dim = 280  # Time steps of input data\n",
        "latent_dim = 32  # Latent space dimension\n",
        "num_classes = 5  # Number of classes\n",
        "hybrid_autoencoder = HybridAutoEncoder(input_dim=input_dim, latent_dim=latent_dim, num_classes=num_classes)\n",
        "\n",
        "# Compile the model\n",
        "hybrid_autoencoder.compile(\n",
        "    optimizer=tf.keras.optimizers.Adam(learning_rate=0.001),\n",
        "    loss={\n",
        "        \"reconstruction\": \"mae\",  # Loss for reconstruction\n",
        "        \"classification\": \"sparse_categorical_crossentropy\"  # Loss for classification\n",
        "    },\n",
        "    metrics={\n",
        "        \"reconstruction\": [],  # Optional metrics for reconstruction\n",
        "        \"classification\": [\"accuracy\"]  # Accuracy metric for classification\n",
        "    }\n",
        ")\n"
      ],
      "metadata": {
        "id": "ZhtKjV9U-TH1"
      },
      "execution_count": null,
      "outputs": []
    },
    {
      "cell_type": "code",
      "source": [
        "# BEFORE RESHAPE\n",
        "print(\"X_train:\", X_train.shape)\n",
        "print(\"X_train_resampled:\", X_train_resampled.shape)\n",
        "print(\"X_test:\", X_test.shape)"
      ],
      "metadata": {
        "colab": {
          "base_uri": "https://localhost:8080/"
        },
        "id": "SqftEUBwFKxd",
        "outputId": "15b41b66-2938-4fc9-e54c-eb8ab153beee"
      },
      "execution_count": null,
      "outputs": [
        {
          "output_type": "stream",
          "name": "stdout",
          "text": [
            "X_train: (92937, 1, 280)\n",
            "X_train_resampled: (384210, 1, 280)\n",
            "X_test: (16401, 1, 280)\n"
          ]
        }
      ]
    },
    {
      "cell_type": "code",
      "source": [
        "# Ensure correct input shape\n",
        "X_train_resampled = X_train_resampled.reshape(-1, 280, 1)  # (samples, time_steps, features)\n",
        "X_train = X_train.reshape(-1, 280, 1)  # (samples, time_steps, features)\n",
        "X_test = X_test.reshape(-1, 280, 1)\n",
        "\n",
        "# AFTER RESHAPE\n",
        "print(\"X_train:\", X_train.shape)\n",
        "print(\"X_train_resampled:\", X_train_resampled.shape)\n",
        "print(\"X_test:\", X_test.shape)"
      ],
      "metadata": {
        "colab": {
          "base_uri": "https://localhost:8080/"
        },
        "id": "X3K_mHcgFF7W",
        "outputId": "8a490056-d064-4997-c1bf-1906da3203c8"
      },
      "execution_count": null,
      "outputs": [
        {
          "output_type": "stream",
          "name": "stdout",
          "text": [
            "X_train: (92937, 280, 1)\n",
            "X_train_resampled: (384210, 280, 1)\n",
            "X_test: (16401, 280, 1)\n"
          ]
        }
      ]
    },
    {
      "cell_type": "code",
      "source": [
        "# Training with Callbacks - testing ##D\n",
        "early_stopping = tf.keras.callbacks.EarlyStopping(\n",
        "    monitor=\"val_loss\", patience=5, restore_best_weights=True, verbose=1\n",
        ")\n",
        "reduce_lr = tf.keras.callbacks.ReduceLROnPlateau(\n",
        "    monitor=\"val_loss\", factor=0.5, patience=3, min_lr=1e-6, verbose=1\n",
        ")\n"
      ],
      "metadata": {
        "id": "muO8yb4uketS"
      },
      "execution_count": null,
      "outputs": []
    },
    {
      "cell_type": "code",
      "source": [
        "#training\n",
        "history = hybrid_autoencoder.fit(\n",
        "    X_train_resampled,\n",
        "    {\"reconstruction\": X_train_resampled, \"classification\": y_train_resampled},\n",
        "    epochs=50,\n",
        "    batch_size=32,\n",
        "    validation_split=0.1,\n",
        "    callbacks=[early_stopping, reduce_lr],\n",
        "    verbose=1\n",
        ")"
      ],
      "metadata": {
        "colab": {
          "base_uri": "https://localhost:8080/"
        },
        "id": "ZP2mgrQokiay",
        "outputId": "23f98665-46f8-48b6-ab4b-e8a9fe6cb4db"
      },
      "execution_count": null,
      "outputs": [
        {
          "output_type": "stream",
          "name": "stdout",
          "text": [
            "Epoch 1/50\n",
            "\u001b[1m10806/10806\u001b[0m \u001b[32m━━━━━━━━━━━━━━━━━━━━\u001b[0m\u001b[37m\u001b[0m \u001b[1m199s\u001b[0m 17ms/step - classification_accuracy: 0.8309 - classification_loss: 0.4572 - loss: 1.0705 - reconstruction_loss: 0.6134 - val_classification_accuracy: 0.9348 - val_classification_loss: 0.2207 - val_loss: 1.0319 - val_reconstruction_loss: 0.8112 - learning_rate: 0.0010\n",
            "Epoch 2/50\n",
            "\u001b[1m10806/10806\u001b[0m \u001b[32m━━━━━━━━━━━━━━━━━━━━\u001b[0m\u001b[37m\u001b[0m \u001b[1m194s\u001b[0m 17ms/step - classification_accuracy: 0.9563 - classification_loss: 0.1257 - loss: 0.6634 - reconstruction_loss: 0.5377 - val_classification_accuracy: 0.9488 - val_classification_loss: 0.1445 - val_loss: 0.9367 - val_reconstruction_loss: 0.7922 - learning_rate: 0.0010\n",
            "Epoch 3/50\n",
            "\u001b[1m10806/10806\u001b[0m \u001b[32m━━━━━━━━━━━━━━━━━━━━\u001b[0m\u001b[37m\u001b[0m \u001b[1m203s\u001b[0m 17ms/step - classification_accuracy: 0.9693 - classification_loss: 0.0868 - loss: 0.6170 - reconstruction_loss: 0.5302 - val_classification_accuracy: 0.9641 - val_classification_loss: 0.1179 - val_loss: 0.9033 - val_reconstruction_loss: 0.7854 - learning_rate: 0.0010\n",
            "Epoch 4/50\n",
            "\u001b[1m10806/10806\u001b[0m \u001b[32m━━━━━━━━━━━━━━━━━━━━\u001b[0m\u001b[37m\u001b[0m \u001b[1m177s\u001b[0m 16ms/step - classification_accuracy: 0.9771 - classification_loss: 0.0651 - loss: 0.5909 - reconstruction_loss: 0.5258 - val_classification_accuracy: 0.9717 - val_classification_loss: 0.0912 - val_loss: 0.8722 - val_reconstruction_loss: 0.7810 - learning_rate: 0.0010\n",
            "Epoch 5/50\n",
            "\u001b[1m10806/10806\u001b[0m \u001b[32m━━━━━━━━━━━━━━━━━━━━\u001b[0m\u001b[37m\u001b[0m \u001b[1m200s\u001b[0m 16ms/step - classification_accuracy: 0.9810 - classification_loss: 0.0557 - loss: 0.5780 - reconstruction_loss: 0.5223 - val_classification_accuracy: 0.9820 - val_classification_loss: 0.0496 - val_loss: 0.8298 - val_reconstruction_loss: 0.7802 - learning_rate: 0.0010\n",
            "Epoch 6/50\n",
            "\u001b[1m10806/10806\u001b[0m \u001b[32m━━━━━━━━━━━━━━━━━━━━\u001b[0m\u001b[37m\u001b[0m \u001b[1m202s\u001b[0m 16ms/step - classification_accuracy: 0.9836 - classification_loss: 0.0485 - loss: 0.5710 - reconstruction_loss: 0.5226 - val_classification_accuracy: 0.9699 - val_classification_loss: 0.1002 - val_loss: 0.8790 - val_reconstruction_loss: 0.7788 - learning_rate: 0.0010\n",
            "Epoch 7/50\n",
            "\u001b[1m10806/10806\u001b[0m \u001b[32m━━━━━━━━━━━━━━━━━━━━\u001b[0m\u001b[37m\u001b[0m \u001b[1m254s\u001b[0m 21ms/step - classification_accuracy: 0.9857 - classification_loss: 0.0417 - loss: 0.5611 - reconstruction_loss: 0.5194 - val_classification_accuracy: 0.9732 - val_classification_loss: 0.0834 - val_loss: 0.8607 - val_reconstruction_loss: 0.7772 - learning_rate: 0.0010\n",
            "Epoch 8/50\n",
            "\u001b[1m10805/10806\u001b[0m \u001b[32m━━━━━━━━━━━━━━━━━━━\u001b[0m\u001b[37m━\u001b[0m \u001b[1m0s\u001b[0m 16ms/step - classification_accuracy: 0.9869 - classification_loss: 0.0386 - loss: 0.5578 - reconstruction_loss: 0.5192\n",
            "Epoch 8: ReduceLROnPlateau reducing learning rate to 0.0005000000237487257.\n",
            "\u001b[1m10806/10806\u001b[0m \u001b[32m━━━━━━━━━━━━━━━━━━━━\u001b[0m\u001b[37m\u001b[0m \u001b[1m220s\u001b[0m 17ms/step - classification_accuracy: 0.9869 - classification_loss: 0.0386 - loss: 0.5578 - reconstruction_loss: 0.5192 - val_classification_accuracy: 0.9795 - val_classification_loss: 0.0597 - val_loss: 0.8315 - val_reconstruction_loss: 0.7718 - learning_rate: 0.0010\n",
            "Epoch 9/50\n",
            "\u001b[1m10806/10806\u001b[0m \u001b[32m━━━━━━━━━━━━━━━━━━━━\u001b[0m\u001b[37m\u001b[0m \u001b[1m197s\u001b[0m 17ms/step - classification_accuracy: 0.9920 - classification_loss: 0.0243 - loss: 0.5394 - reconstruction_loss: 0.5151 - val_classification_accuracy: 0.9832 - val_classification_loss: 0.0474 - val_loss: 0.8171 - val_reconstruction_loss: 0.7697 - learning_rate: 5.0000e-04\n",
            "Epoch 10/50\n",
            "\u001b[1m10806/10806\u001b[0m \u001b[32m━━━━━━━━━━━━━━━━━━━━\u001b[0m\u001b[37m\u001b[0m \u001b[1m207s\u001b[0m 17ms/step - classification_accuracy: 0.9935 - classification_loss: 0.0207 - loss: 0.5346 - reconstruction_loss: 0.5139 - val_classification_accuracy: 0.9850 - val_classification_loss: 0.0423 - val_loss: 0.8109 - val_reconstruction_loss: 0.7686 - learning_rate: 5.0000e-04\n",
            "Epoch 11/50\n",
            "\u001b[1m10806/10806\u001b[0m \u001b[32m━━━━━━━━━━━━━━━━━━━━\u001b[0m\u001b[37m\u001b[0m \u001b[1m203s\u001b[0m 17ms/step - classification_accuracy: 0.9936 - classification_loss: 0.0198 - loss: 0.5337 - reconstruction_loss: 0.5138 - val_classification_accuracy: 0.9827 - val_classification_loss: 0.0457 - val_loss: 0.8135 - val_reconstruction_loss: 0.7677 - learning_rate: 5.0000e-04\n",
            "Epoch 12/50\n",
            "\u001b[1m10806/10806\u001b[0m \u001b[32m━━━━━━━━━━━━━━━━━━━━\u001b[0m\u001b[37m\u001b[0m \u001b[1m195s\u001b[0m 17ms/step - classification_accuracy: 0.9942 - classification_loss: 0.0180 - loss: 0.5311 - reconstruction_loss: 0.5131 - val_classification_accuracy: 0.9850 - val_classification_loss: 0.0528 - val_loss: 0.8200 - val_reconstruction_loss: 0.7671 - learning_rate: 5.0000e-04\n",
            "Epoch 13/50\n",
            "\u001b[1m10806/10806\u001b[0m \u001b[32m━━━━━━━━━━━━━━━━━━━━\u001b[0m\u001b[37m\u001b[0m \u001b[1m207s\u001b[0m 17ms/step - classification_accuracy: 0.9944 - classification_loss: 0.0179 - loss: 0.5308 - reconstruction_loss: 0.5129 - val_classification_accuracy: 0.9893 - val_classification_loss: 0.0331 - val_loss: 0.7987 - val_reconstruction_loss: 0.7656 - learning_rate: 5.0000e-04\n",
            "Epoch 14/50\n",
            "\u001b[1m10806/10806\u001b[0m \u001b[32m━━━━━━━━━━━━━━━━━━━━\u001b[0m\u001b[37m\u001b[0m \u001b[1m198s\u001b[0m 17ms/step - classification_accuracy: 0.9948 - classification_loss: 0.0161 - loss: 0.5287 - reconstruction_loss: 0.5125 - val_classification_accuracy: 0.9882 - val_classification_loss: 0.0355 - val_loss: 0.8010 - val_reconstruction_loss: 0.7655 - learning_rate: 5.0000e-04\n",
            "Epoch 15/50\n",
            "\u001b[1m10806/10806\u001b[0m \u001b[32m━━━━━━━━━━━━━━━━━━━━\u001b[0m\u001b[37m\u001b[0m \u001b[1m183s\u001b[0m 17ms/step - classification_accuracy: 0.9949 - classification_loss: 0.0155 - loss: 0.5277 - reconstruction_loss: 0.5122 - val_classification_accuracy: 0.9885 - val_classification_loss: 0.0353 - val_loss: 0.8005 - val_reconstruction_loss: 0.7653 - learning_rate: 5.0000e-04\n",
            "Epoch 16/50\n",
            "\u001b[1m10804/10806\u001b[0m \u001b[32m━━━━━━━━━━━━━━━━━━━\u001b[0m\u001b[37m━\u001b[0m \u001b[1m0s\u001b[0m 16ms/step - classification_accuracy: 0.9952 - classification_loss: 0.0149 - loss: 0.5270 - reconstruction_loss: 0.5121\n",
            "Epoch 16: ReduceLROnPlateau reducing learning rate to 0.0002500000118743628.\n",
            "\u001b[1m10806/10806\u001b[0m \u001b[32m━━━━━━━━━━━━━━━━━━━━\u001b[0m\u001b[37m\u001b[0m \u001b[1m204s\u001b[0m 17ms/step - classification_accuracy: 0.9952 - classification_loss: 0.0149 - loss: 0.5270 - reconstruction_loss: 0.5121 - val_classification_accuracy: 0.9868 - val_classification_loss: 0.0423 - val_loss: 0.8086 - val_reconstruction_loss: 0.7663 - learning_rate: 5.0000e-04\n",
            "Epoch 17/50\n",
            "\u001b[1m10806/10806\u001b[0m \u001b[32m━━━━━━━━━━━━━━━━━━━━\u001b[0m\u001b[37m\u001b[0m \u001b[1m197s\u001b[0m 17ms/step - classification_accuracy: 0.9974 - classification_loss: 0.0095 - loss: 0.5203 - reconstruction_loss: 0.5108 - val_classification_accuracy: 0.9901 - val_classification_loss: 0.0287 - val_loss: 0.7927 - val_reconstruction_loss: 0.7640 - learning_rate: 2.5000e-04\n",
            "Epoch 18/50\n",
            "\u001b[1m10806/10806\u001b[0m \u001b[32m━━━━━━━━━━━━━━━━━━━━\u001b[0m\u001b[37m\u001b[0m \u001b[1m206s\u001b[0m 17ms/step - classification_accuracy: 0.9975 - classification_loss: 0.0085 - loss: 0.5184 - reconstruction_loss: 0.5099 - val_classification_accuracy: 0.9931 - val_classification_loss: 0.0222 - val_loss: 0.7857 - val_reconstruction_loss: 0.7634 - learning_rate: 2.5000e-04\n",
            "Epoch 19/50\n",
            "\u001b[1m10806/10806\u001b[0m \u001b[32m━━━━━━━━━━━━━━━━━━━━\u001b[0m\u001b[37m\u001b[0m \u001b[1m202s\u001b[0m 17ms/step - classification_accuracy: 0.9976 - classification_loss: 0.0082 - loss: 0.5174 - reconstruction_loss: 0.5092 - val_classification_accuracy: 0.9924 - val_classification_loss: 0.0238 - val_loss: 0.7874 - val_reconstruction_loss: 0.7636 - learning_rate: 2.5000e-04\n",
            "Epoch 20/50\n",
            "\u001b[1m10806/10806\u001b[0m \u001b[32m━━━━━━━━━━━━━━━━━━━━\u001b[0m\u001b[37m\u001b[0m \u001b[1m200s\u001b[0m 17ms/step - classification_accuracy: 0.9976 - classification_loss: 0.0080 - loss: 0.5184 - reconstruction_loss: 0.5104 - val_classification_accuracy: 0.9915 - val_classification_loss: 0.0268 - val_loss: 0.7898 - val_reconstruction_loss: 0.7630 - learning_rate: 2.5000e-04\n",
            "Epoch 21/50\n",
            "\u001b[1m10804/10806\u001b[0m \u001b[32m━━━━━━━━━━━━━━━━━━━\u001b[0m\u001b[37m━\u001b[0m \u001b[1m0s\u001b[0m 16ms/step - classification_accuracy: 0.9978 - classification_loss: 0.0074 - loss: 0.5170 - reconstruction_loss: 0.5097\n",
            "Epoch 21: ReduceLROnPlateau reducing learning rate to 0.0001250000059371814.\n",
            "\u001b[1m10806/10806\u001b[0m \u001b[32m━━━━━━━━━━━━━━━━━━━━\u001b[0m\u001b[37m\u001b[0m \u001b[1m202s\u001b[0m 17ms/step - classification_accuracy: 0.9978 - classification_loss: 0.0074 - loss: 0.5170 - reconstruction_loss: 0.5097 - val_classification_accuracy: 0.9911 - val_classification_loss: 0.0299 - val_loss: 0.7932 - val_reconstruction_loss: 0.7633 - learning_rate: 2.5000e-04\n",
            "Epoch 22/50\n",
            "\u001b[1m10806/10806\u001b[0m \u001b[32m━━━━━━━━━━━━━━━━━━━━\u001b[0m\u001b[37m\u001b[0m \u001b[1m199s\u001b[0m 17ms/step - classification_accuracy: 0.9986 - classification_loss: 0.0052 - loss: 0.5137 - reconstruction_loss: 0.5085 - val_classification_accuracy: 0.9943 - val_classification_loss: 0.0192 - val_loss: 0.7805 - val_reconstruction_loss: 0.7613 - learning_rate: 1.2500e-04\n",
            "Epoch 23/50\n",
            "\u001b[1m10806/10806\u001b[0m \u001b[32m━━━━━━━━━━━━━━━━━━━━\u001b[0m\u001b[37m\u001b[0m \u001b[1m184s\u001b[0m 17ms/step - classification_accuracy: 0.9987 - classification_loss: 0.0048 - loss: 0.5124 - reconstruction_loss: 0.5076 - val_classification_accuracy: 0.9928 - val_classification_loss: 0.0222 - val_loss: 0.7833 - val_reconstruction_loss: 0.7611 - learning_rate: 1.2500e-04\n",
            "Epoch 24/50\n",
            "\u001b[1m10806/10806\u001b[0m \u001b[32m━━━━━━━━━━━━━━━━━━━━\u001b[0m\u001b[37m\u001b[0m \u001b[1m183s\u001b[0m 17ms/step - classification_accuracy: 0.9989 - classification_loss: 0.0045 - loss: 0.5126 - reconstruction_loss: 0.5081 - val_classification_accuracy: 0.9940 - val_classification_loss: 0.0214 - val_loss: 0.7824 - val_reconstruction_loss: 0.7610 - learning_rate: 1.2500e-04\n",
            "Epoch 25/50\n",
            "\u001b[1m10804/10806\u001b[0m \u001b[32m━━━━━━━━━━━━━━━━━━━\u001b[0m\u001b[37m━\u001b[0m \u001b[1m0s\u001b[0m 16ms/step - classification_accuracy: 0.9989 - classification_loss: 0.0044 - loss: 0.5121 - reconstruction_loss: 0.5076\n",
            "Epoch 25: ReduceLROnPlateau reducing learning rate to 6.25000029685907e-05.\n",
            "\u001b[1m10806/10806\u001b[0m \u001b[32m━━━━━━━━━━━━━━━━━━━━\u001b[0m\u001b[37m\u001b[0m \u001b[1m201s\u001b[0m 17ms/step - classification_accuracy: 0.9989 - classification_loss: 0.0044 - loss: 0.5121 - reconstruction_loss: 0.5076 - val_classification_accuracy: 0.9929 - val_classification_loss: 0.0256 - val_loss: 0.7864 - val_reconstruction_loss: 0.7608 - learning_rate: 1.2500e-04\n",
            "Epoch 26/50\n",
            "\u001b[1m10806/10806\u001b[0m \u001b[32m━━━━━━━━━━━━━━━━━━━━\u001b[0m\u001b[37m\u001b[0m \u001b[1m203s\u001b[0m 17ms/step - classification_accuracy: 0.9992 - classification_loss: 0.0037 - loss: 0.5111 - reconstruction_loss: 0.5075 - val_classification_accuracy: 0.9950 - val_classification_loss: 0.0159 - val_loss: 0.7764 - val_reconstruction_loss: 0.7605 - learning_rate: 6.2500e-05\n",
            "Epoch 27/50\n",
            "\u001b[1m10806/10806\u001b[0m \u001b[32m━━━━━━━━━━━━━━━━━━━━\u001b[0m\u001b[37m\u001b[0m \u001b[1m203s\u001b[0m 17ms/step - classification_accuracy: 0.9993 - classification_loss: 0.0030 - loss: 0.5108 - reconstruction_loss: 0.5078 - val_classification_accuracy: 0.9957 - val_classification_loss: 0.0143 - val_loss: 0.7745 - val_reconstruction_loss: 0.7602 - learning_rate: 6.2500e-05\n",
            "Epoch 28/50\n",
            "\u001b[1m10806/10806\u001b[0m \u001b[32m━━━━━━━━━━━━━━━━━━━━\u001b[0m\u001b[37m\u001b[0m \u001b[1m202s\u001b[0m 17ms/step - classification_accuracy: 0.9993 - classification_loss: 0.0031 - loss: 0.5104 - reconstruction_loss: 0.5072 - val_classification_accuracy: 0.9950 - val_classification_loss: 0.0169 - val_loss: 0.7770 - val_reconstruction_loss: 0.7600 - learning_rate: 6.2500e-05\n",
            "Epoch 29/50\n",
            "\u001b[1m10806/10806\u001b[0m \u001b[32m━━━━━━━━━━━━━━━━━━━━\u001b[0m\u001b[37m\u001b[0m \u001b[1m199s\u001b[0m 17ms/step - classification_accuracy: 0.9992 - classification_loss: 0.0030 - loss: 0.5104 - reconstruction_loss: 0.5074 - val_classification_accuracy: 0.9950 - val_classification_loss: 0.0175 - val_loss: 0.7777 - val_reconstruction_loss: 0.7601 - learning_rate: 6.2500e-05\n",
            "Epoch 30/50\n",
            "\u001b[1m10803/10806\u001b[0m \u001b[32m━━━━━━━━━━━━━━━━━━━\u001b[0m\u001b[37m━\u001b[0m \u001b[1m0s\u001b[0m 16ms/step - classification_accuracy: 0.9993 - classification_loss: 0.0029 - loss: 0.5106 - reconstruction_loss: 0.5077\n",
            "Epoch 30: ReduceLROnPlateau reducing learning rate to 3.125000148429535e-05.\n",
            "\u001b[1m10806/10806\u001b[0m \u001b[32m━━━━━━━━━━━━━━━━━━━━\u001b[0m\u001b[37m\u001b[0m \u001b[1m185s\u001b[0m 17ms/step - classification_accuracy: 0.9993 - classification_loss: 0.0029 - loss: 0.5106 - reconstruction_loss: 0.5077 - val_classification_accuracy: 0.9945 - val_classification_loss: 0.0188 - val_loss: 0.7786 - val_reconstruction_loss: 0.7598 - learning_rate: 6.2500e-05\n",
            "Epoch 31/50\n",
            "\u001b[1m10806/10806\u001b[0m \u001b[32m━━━━━━━━━━━━━━━━━━━━\u001b[0m\u001b[37m\u001b[0m \u001b[1m185s\u001b[0m 17ms/step - classification_accuracy: 0.9994 - classification_loss: 0.0025 - loss: 0.5098 - reconstruction_loss: 0.5072 - val_classification_accuracy: 0.9951 - val_classification_loss: 0.0177 - val_loss: 0.7774 - val_reconstruction_loss: 0.7597 - learning_rate: 3.1250e-05\n",
            "Epoch 32/50\n",
            "\u001b[1m10806/10806\u001b[0m \u001b[32m━━━━━━━━━━━━━━━━━━━━\u001b[0m\u001b[37m\u001b[0m \u001b[1m182s\u001b[0m 17ms/step - classification_accuracy: 0.9995 - classification_loss: 0.0025 - loss: 0.5102 - reconstruction_loss: 0.5077 - val_classification_accuracy: 0.9957 - val_classification_loss: 0.0149 - val_loss: 0.7745 - val_reconstruction_loss: 0.7596 - learning_rate: 3.1250e-05\n",
            "Epoch 32: early stopping\n",
            "Restoring model weights from the end of the best epoch: 27.\n"
          ]
        }
      ]
    },
    {
      "cell_type": "code",
      "source": [
        "# # Train the model\n",
        "# history = hybrid_autoencoder.fit(\n",
        "#     X_train_resampled,  # Input data\n",
        "#     {\"reconstruction\": X_train_resampled, \"classification\": y_train_resampled},  # Output data for both tasks\n",
        "#     epochs=10,\n",
        "#     batch_size=32,\n",
        "#     validation_split=0.1,\n",
        "#     verbose=1\n",
        "# )\n"
      ],
      "metadata": {
        "id": "h5zPMHSc-WP8"
      },
      "execution_count": null,
      "outputs": []
    },
    {
      "cell_type": "code",
      "source": [
        "model_save_path = \"hybrid_autoencoder_model.h5\"\n",
        "hybrid_autoencoder.save(model_save_path)\n",
        "print(f\"Model saved in HDF5 format at {model_save_path}\")\n",
        "\n",
        "\n",
        "files.download(model_save_path)\n",
        "\n",
        "model_save_path3 = \"hybrid_autoencoder_model.keras\"\n",
        "hybrid_autoencoder.save(model_save_path3)\n",
        "files.download(model_save_path3)\n",
        "\n",
        "\n",
        "torch.save(HybridAutoEncoder,\"hybrid_autoencoder_model.pth\")\n",
        "\n",
        "print(\"Model saved as hybrid_autoencoder_model.pth\")\n",
        "\n",
        "files.download(\"hybrid_autoencoder_model.pth\")\n"
      ],
      "metadata": {
        "colab": {
          "base_uri": "https://localhost:8080/",
          "height": 89
        },
        "id": "ed2BnIupM9q4",
        "outputId": "ecffb7c8-ba25-4c1d-deac-4b20cd033f66"
      },
      "execution_count": null,
      "outputs": [
        {
          "output_type": "stream",
          "name": "stderr",
          "text": [
            "WARNING:absl:You are saving your model as an HDF5 file via `model.save()` or `keras.saving.save_model(model)`. This file format is considered legacy. We recommend using instead the native Keras format, e.g. `model.save('my_model.keras')` or `keras.saving.save_model(model, 'my_model.keras')`. \n"
          ]
        },
        {
          "output_type": "stream",
          "name": "stdout",
          "text": [
            "Model saved in HDF5 format at hybrid_autoencoder_model.h5\n"
          ]
        },
        {
          "output_type": "display_data",
          "data": {
            "text/plain": [
              "<IPython.core.display.Javascript object>"
            ],
            "application/javascript": [
              "\n",
              "    async function download(id, filename, size) {\n",
              "      if (!google.colab.kernel.accessAllowed) {\n",
              "        return;\n",
              "      }\n",
              "      const div = document.createElement('div');\n",
              "      const label = document.createElement('label');\n",
              "      label.textContent = `Downloading \"${filename}\": `;\n",
              "      div.appendChild(label);\n",
              "      const progress = document.createElement('progress');\n",
              "      progress.max = size;\n",
              "      div.appendChild(progress);\n",
              "      document.body.appendChild(div);\n",
              "\n",
              "      const buffers = [];\n",
              "      let downloaded = 0;\n",
              "\n",
              "      const channel = await google.colab.kernel.comms.open(id);\n",
              "      // Send a message to notify the kernel that we're ready.\n",
              "      channel.send({})\n",
              "\n",
              "      for await (const message of channel.messages) {\n",
              "        // Send a message to notify the kernel that we're ready.\n",
              "        channel.send({})\n",
              "        if (message.buffers) {\n",
              "          for (const buffer of message.buffers) {\n",
              "            buffers.push(buffer);\n",
              "            downloaded += buffer.byteLength;\n",
              "            progress.value = downloaded;\n",
              "          }\n",
              "        }\n",
              "      }\n",
              "      const blob = new Blob(buffers, {type: 'application/binary'});\n",
              "      const a = document.createElement('a');\n",
              "      a.href = window.URL.createObjectURL(blob);\n",
              "      a.download = filename;\n",
              "      div.appendChild(a);\n",
              "      a.click();\n",
              "      div.remove();\n",
              "    }\n",
              "  "
            ]
          },
          "metadata": {}
        },
        {
          "output_type": "display_data",
          "data": {
            "text/plain": [
              "<IPython.core.display.Javascript object>"
            ],
            "application/javascript": [
              "download(\"download_5a3fe2c7-2652-402c-a953-83d8592ed6dc\", \"hybrid_autoencoder_model.h5\", 1221072)"
            ]
          },
          "metadata": {}
        },
        {
          "output_type": "display_data",
          "data": {
            "text/plain": [
              "<IPython.core.display.Javascript object>"
            ],
            "application/javascript": [
              "\n",
              "    async function download(id, filename, size) {\n",
              "      if (!google.colab.kernel.accessAllowed) {\n",
              "        return;\n",
              "      }\n",
              "      const div = document.createElement('div');\n",
              "      const label = document.createElement('label');\n",
              "      label.textContent = `Downloading \"${filename}\": `;\n",
              "      div.appendChild(label);\n",
              "      const progress = document.createElement('progress');\n",
              "      progress.max = size;\n",
              "      div.appendChild(progress);\n",
              "      document.body.appendChild(div);\n",
              "\n",
              "      const buffers = [];\n",
              "      let downloaded = 0;\n",
              "\n",
              "      const channel = await google.colab.kernel.comms.open(id);\n",
              "      // Send a message to notify the kernel that we're ready.\n",
              "      channel.send({})\n",
              "\n",
              "      for await (const message of channel.messages) {\n",
              "        // Send a message to notify the kernel that we're ready.\n",
              "        channel.send({})\n",
              "        if (message.buffers) {\n",
              "          for (const buffer of message.buffers) {\n",
              "            buffers.push(buffer);\n",
              "            downloaded += buffer.byteLength;\n",
              "            progress.value = downloaded;\n",
              "          }\n",
              "        }\n",
              "      }\n",
              "      const blob = new Blob(buffers, {type: 'application/binary'});\n",
              "      const a = document.createElement('a');\n",
              "      a.href = window.URL.createObjectURL(blob);\n",
              "      a.download = filename;\n",
              "      div.appendChild(a);\n",
              "      a.click();\n",
              "      div.remove();\n",
              "    }\n",
              "  "
            ]
          },
          "metadata": {}
        },
        {
          "output_type": "display_data",
          "data": {
            "text/plain": [
              "<IPython.core.display.Javascript object>"
            ],
            "application/javascript": [
              "download(\"download_37689040-2d89-430d-b01b-59d54365136e\", \"hybrid_autoencoder_model.keras\", 1226352)"
            ]
          },
          "metadata": {}
        },
        {
          "output_type": "stream",
          "name": "stdout",
          "text": [
            "Model saved as hybrid_autoencoder_model.pth\n"
          ]
        },
        {
          "output_type": "display_data",
          "data": {
            "text/plain": [
              "<IPython.core.display.Javascript object>"
            ],
            "application/javascript": [
              "\n",
              "    async function download(id, filename, size) {\n",
              "      if (!google.colab.kernel.accessAllowed) {\n",
              "        return;\n",
              "      }\n",
              "      const div = document.createElement('div');\n",
              "      const label = document.createElement('label');\n",
              "      label.textContent = `Downloading \"${filename}\": `;\n",
              "      div.appendChild(label);\n",
              "      const progress = document.createElement('progress');\n",
              "      progress.max = size;\n",
              "      div.appendChild(progress);\n",
              "      document.body.appendChild(div);\n",
              "\n",
              "      const buffers = [];\n",
              "      let downloaded = 0;\n",
              "\n",
              "      const channel = await google.colab.kernel.comms.open(id);\n",
              "      // Send a message to notify the kernel that we're ready.\n",
              "      channel.send({})\n",
              "\n",
              "      for await (const message of channel.messages) {\n",
              "        // Send a message to notify the kernel that we're ready.\n",
              "        channel.send({})\n",
              "        if (message.buffers) {\n",
              "          for (const buffer of message.buffers) {\n",
              "            buffers.push(buffer);\n",
              "            downloaded += buffer.byteLength;\n",
              "            progress.value = downloaded;\n",
              "          }\n",
              "        }\n",
              "      }\n",
              "      const blob = new Blob(buffers, {type: 'application/binary'});\n",
              "      const a = document.createElement('a');\n",
              "      a.href = window.URL.createObjectURL(blob);\n",
              "      a.download = filename;\n",
              "      div.appendChild(a);\n",
              "      a.click();\n",
              "      div.remove();\n",
              "    }\n",
              "  "
            ]
          },
          "metadata": {}
        },
        {
          "output_type": "display_data",
          "data": {
            "text/plain": [
              "<IPython.core.display.Javascript object>"
            ],
            "application/javascript": [
              "download(\"download_f46fc3d0-4fca-4e25-92e5-a2c9b860c5fe\", \"hybrid_autoencoder_model.pth\", 996)"
            ]
          },
          "metadata": {}
        }
      ]
    },
    {
      "cell_type": "code",
      "source": [
        "# Evaluate on test data\n",
        "results = hybrid_autoencoder.evaluate(\n",
        "    X_test,\n",
        "    {\"reconstruction\": X_test, \"classification\": y_test}\n",
        ")\n",
        "\n",
        "print(f\"Reconstruction Loss: {results[1]}\")  # Reconstruction loss\n",
        "print(f\"Classification Accuracy: {results[3]}\")  # Classification accuracy\n"
      ],
      "metadata": {
        "id": "Zicdnwjh-goH",
        "colab": {
          "base_uri": "https://localhost:8080/"
        },
        "outputId": "8bb64edc-0c8e-43e4-a1bd-2a0051952118"
      },
      "execution_count": null,
      "outputs": [
        {
          "output_type": "stream",
          "name": "stdout",
          "text": [
            "\u001b[1m513/513\u001b[0m \u001b[32m━━━━━━━━━━━━━━━━━━━━\u001b[0m\u001b[37m\u001b[0m \u001b[1m4s\u001b[0m 7ms/step - classification_accuracy: 0.9845 - classification_loss: 0.0829 - loss: 0.5458 - reconstruction_loss: 0.4629\n",
            "Reconstruction Loss: 0.08849824965000153\n",
            "Classification Accuracy: 0.9852448105812073\n"
          ]
        }
      ]
    },
    {
      "cell_type": "code",
      "source": [
        "##Ploting\n",
        "def plot_training_curves(history):\n",
        "    plt.figure(figsize=(12, 5))\n",
        "    plt.subplot(1, 2, 1)\n",
        "    plt.plot(history.history['classification_accuracy'], label='Train Accuracy')\n",
        "    plt.plot(history.history['val_classification_accuracy'], label='Validation Accuracy')\n",
        "    plt.xlabel('Epochs')\n",
        "    plt.ylabel('Accuracy')\n",
        "    plt.title('Classification Accuracy')\n",
        "    plt.legend()\n",
        "\n",
        "    plt.subplot(1, 2, 2)\n",
        "    plt.plot(history.history['loss'], label='Total Loss')\n",
        "    plt.plot(history.history['val_loss'], label='Validation Loss')\n",
        "    plt.xlabel('Epochs')\n",
        "    plt.ylabel('Loss')\n",
        "    plt.title('Loss Curves')\n",
        "    plt.legend()\n",
        "    plt.show()\n",
        "\n",
        "plot_training_curves(history)"
      ],
      "metadata": {
        "colab": {
          "base_uri": "https://localhost:8080/",
          "height": 406
        },
        "id": "PLY9E0jpkvoN",
        "outputId": "dad51bea-99e9-4e9e-d675-c1ef85993c3e"
      },
      "execution_count": null,
      "outputs": [
        {
          "output_type": "display_data",
          "data": {
            "text/plain": [
              "<Figure size 1200x500 with 2 Axes>"
            ],
            "image/png": "[encoded data removed]"
          },
          "metadata": {}
        }
      ]
    },
    {
      "cell_type": "code",
      "source": [
        "# Example input data\n",
        "new_input = np.random.rand(1, input_dim, 1).astype(np.float32)  # Replace with actual input\n",
        "\n",
        "# Predict\n",
        "predictions = hybrid_autoencoder.predict(new_input)\n",
        "\n",
        "# Get reconstructed output\n",
        "reconstructed_output = predictions[\"reconstruction\"]\n",
        "\n",
        "# Get predicted class\n",
        "class_probs = predictions[\"classification\"]\n",
        "predicted_class = np.argmax(class_probs, axis=1)\n",
        "\n",
        "print(f\"Reconstructed Output Shape: {reconstructed_output.shape}\")\n",
        "print(f\"Predicted Class: {predicted_class}\")\n"
      ],
      "metadata": {
        "id": "sU1yJ3Zx-jmQ",
        "colab": {
          "base_uri": "https://localhost:8080/"
        },
        "outputId": "41ef11ce-4d26-4a85-d5dd-b0167d818697"
      },
      "execution_count": null,
      "outputs": [
        {
          "output_type": "stream",
          "name": "stdout",
          "text": [
            "\u001b[1m1/1\u001b[0m \u001b[32m━━━━━━━━━━━━━━━━━━━━\u001b[0m\u001b[37m\u001b[0m \u001b[1m1s\u001b[0m 758ms/step\n",
            "Reconstructed Output Shape: (1, 280, 1)\n",
            "Predicted Class: [1]\n"
          ]
        }
      ]
    },
    {
      "cell_type": "code",
      "source": [
        "# Predict classification outputs\n",
        "predictions = hybrid_autoencoder.predict(X_test)\n",
        "predicted_probs = predictions[\"classification\"]  # Softmax probabilities\n",
        "threshold = 0.6  # adjust threshold for majority class\n",
        "predicted_classes = np.argmax(predicted_probs, axis=1)  # Get class indices\n",
        "\n",
        "# Improve the prediction of majority class (N)\n",
        "predicted_classes[predicted_probs[:, 0] > threshold] = 0"
      ],
      "metadata": {
        "id": "D-YGDnfBczSz",
        "colab": {
          "base_uri": "https://localhost:8080/"
        },
        "outputId": "33df26c9-5bd2-49a9-99aa-589c3df77d0d"
      },
      "execution_count": null,
      "outputs": [
        {
          "output_type": "stream",
          "name": "stdout",
          "text": [
            "\u001b[1m513/513\u001b[0m \u001b[32m━━━━━━━━━━━━━━━━━━━━\u001b[0m\u001b[37m\u001b[0m \u001b[1m3s\u001b[0m 6ms/step\n"
          ]
        }
      ]
    },
    {
      "cell_type": "code",
      "source": [
        "# Compute the confusion matrix\n",
        "conf_matrix = confusion_matrix(y_test, predicted_classes)\n",
        "\n",
        "print(\"Confusion Matrix:\")\n",
        "print(conf_matrix)\n"
      ],
      "metadata": {
        "colab": {
          "base_uri": "https://localhost:8080/"
        },
        "id": "yHRbBR-mBy1R",
        "outputId": "00e686b6-a50c-4f05-a49a-d601452369c7"
      },
      "execution_count": null,
      "outputs": [
        {
          "output_type": "stream",
          "name": "stdout",
          "text": [
            "Confusion Matrix:\n",
            "[[  100    12     1     0     8]\n",
            " [   17 13512    13    78    40]\n",
            " [    0     5  1136     0     0]\n",
            " [    0    27     0   365     2]\n",
            " [    7    24     2     6  1046]]\n"
          ]
        }
      ]
    },
    {
      "cell_type": "code",
      "source": [
        "import matplotlib.pyplot as plt\n",
        "import seaborn as sns\n",
        "\n",
        "# Define the class labels (ensure they match the encoding)\n",
        "class_labels = ['F', 'N', 'Q', 'S', 'V']\n",
        "\n",
        "# Plot confusion matrix\n",
        "plt.figure(figsize=(8, 6))\n",
        "sns.heatmap(conf_matrix, annot=True, fmt='d', cmap='Blues', xticklabels=class_labels, yticklabels=class_labels)\n",
        "plt.xlabel('Predicted Labels')\n",
        "plt.ylabel('True Labels')\n",
        "plt.title('Confusion Matrix')\n",
        "plt.show()\n"
      ],
      "metadata": {
        "colab": {
          "base_uri": "https://localhost:8080/",
          "height": 564
        },
        "id": "D0rEx2o5B89v",
        "outputId": "fed02a1c-af39-49c7-bb30-6b7fce05ecd7"
      },
      "execution_count": null,
      "outputs": [
        {
          "output_type": "display_data",
          "data": {
            "text/plain": [
              "<Figure size 800x600 with 2 Axes>"
            ],
            "image/png": "[encoded data removed]"
          },
          "metadata": {}
        }
      ]
    },
    {
      "cell_type": "code",
      "source": [
        "# Compute accuracy\n",
        "accuracy = accuracy_score(y_test, predicted_classes)\n",
        "\n",
        "# Compute precision, recall, and F2-score\n",
        "precision = precision_score(y_test, predicted_classes, average='weighted')\n",
        "recall = recall_score(y_test, predicted_classes, average='weighted')\n",
        "f2_score = fbeta_score(y_test, predicted_classes, beta=2, average='weighted')  # F2-score\n",
        "\n",
        "# Print metrics\n",
        "print(f\"Accuracy: {accuracy:.2f}\")\n",
        "print(f\"Precision: {precision:.2f}\")\n",
        "print(f\"Recall: {recall:.2f}\")\n",
        "print(f\"F2 Score: {f2_score:.2f}\")\n"
      ],
      "metadata": {
        "colab": {
          "base_uri": "https://localhost:8080/"
        },
        "id": "USRYn2-mCCMf",
        "outputId": "d203bbe7-5576-4966-e44c-18fcd4042048"
      },
      "execution_count": null,
      "outputs": [
        {
          "output_type": "stream",
          "name": "stdout",
          "text": [
            "Accuracy: 0.99\n",
            "Precision: 0.99\n",
            "Recall: 0.99\n",
            "F2 Score: 0.99\n"
          ]
        }
      ]
    },
    {
      "cell_type": "code",
      "source": [
        "from sklearn.metrics import classification_report\n",
        "\n",
        "# Print classification metric report for each class\n",
        "report = classification_report(y_test, predicted_classes, target_names=['F', 'N', 'Q', 'S', 'V'])\n",
        "print(report)"
      ],
      "metadata": {
        "colab": {
          "base_uri": "https://localhost:8080/"
        },
        "id": "WCmAH4tCFCWR",
        "outputId": "e488c9a7-cde0-42b5-c069-ff6a3ce661a5"
      },
      "execution_count": null,
      "outputs": [
        {
          "output_type": "stream",
          "name": "stdout",
          "text": [
            "              precision    recall  f1-score   support\n",
            "\n",
            "           F       0.81      0.83      0.82       121\n",
            "           N       0.99      0.99      0.99     13660\n",
            "           Q       0.99      1.00      0.99      1141\n",
            "           S       0.81      0.93      0.87       394\n",
            "           V       0.95      0.96      0.96      1085\n",
            "\n",
            "    accuracy                           0.99     16401\n",
            "   macro avg       0.91      0.94      0.92     16401\n",
            "weighted avg       0.99      0.99      0.99     16401\n",
            "\n"
          ]
        }
      ]
    }
  ],
  "metadata": {
    "kernelspec": {
      "display_name": "Python 3",
      "name": "python3"
    },
    "language_info": {
      "codemirror_mode": {
        "name": "ipython",
        "version": 3
      },
      "file_extension": ".py",
      "mimetype": "text/x-python",
      "name": "python",
      "nbconvert_exporter": "python",
      "pygments_lexer": "ipython3",
      "version": "3.11.5"
    },
    "colab": {
      "provenance": [],
      "gpuType": "T4"
    },
    "accelerator": "GPU"
  },
  "nbformat": 4,
  "nbformat_minor": 0
}
